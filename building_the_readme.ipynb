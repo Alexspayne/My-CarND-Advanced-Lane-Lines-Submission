{
 "cells": [
  {
   "cell_type": "markdown",
   "metadata": {
    "deletable": true,
    "editable": true
   },
   "source": [
    "I just used this file so that I could use Jupyter's markdown preview."
   ]
  },
  {
   "cell_type": "markdown",
   "metadata": {
    "deletable": true,
    "editable": true
   },
   "source": [
    "**Advanced Lane Finding Project**\n",
    "\n",
    "The goals / steps of this project are the following:\n",
    "\n",
    "* Compute the camera calibration matrix and distortion coefficients given a set of chessboard images.\n",
    "* Apply a distortion correction to raw images.\n",
    "* Use color transforms, gradients, etc., to create a thresholded binary image.\n",
    "* Apply a perspective transform to rectify binary image (\"birds-eye view\").\n",
    "* Detect lane pixels and fit to find the lane boundary.\n",
    "* Determine the curvature of the lane and vehicle position with respect to center.\n",
    "* Warp the detected lane boundaries back onto the original image.\n",
    "* Output visual display of the lane boundaries and numerical estimation of lane curvature and vehicle position.\n",
    "\n",
    "## [Rubric](https://review.udacity.com/#!/rubrics/571/view) Points\n",
    "### Here I will consider the rubric points individually and describe how I addressed each point in my implementation.  \n",
    "\n",
    "---\n",
    "### Writeup / README\n",
    "\n",
    "#### 1. Provide a Writeup / README that includes all the rubric points and how you addressed each one.  You can submit your writeup as markdown or pdf.  [Here](https://github.com/udacity/CarND-Advanced-Lane-Lines/blob/master/writeup_template.md) is a template writeup for this project you can use as a guide and a starting point.  \n",
    "\n",
    "You're reading it!  Most of the code is in the `advanced_lane_finding.ipynb`.  \n",
    "### Camera Calibration\n",
    "\n",
    "#### 1. Briefly state how you computed the camera matrix and distortion coefficients. Provide an example of a distortion corrected calibration image.\n",
    "\n",
    "The code for this step is contained in the first code cell of the Jupyter notebook \"advanced_lane_finding.ipynb\"\n",
    "\n",
    "I start by preparing \"object points\", which will be the (x, y, z) coordinates of the chessboard corners in the world. Here I am assuming the chessboard is fixed on the (x, y) plane at z=0, such that the object points are the same for each calibration image.  Thus, `objp` is just a replicated array of coordinates, and `objpoints` will be appended with a copy of it every time I successfully detect all chessboard corners in a test image.  `imgpoints` will be appended with the (x, y) pixel position of each of the corners in the image plane with each successful chessboard detection.  \n",
    "\n",
    "I then used the output `objpoints` and `imgpoints` to compute the camera calibration and distortion coefficients using the `cv2.calibrateCamera()` function.  I applied this distortion correction to the test image using the `cv2.undistort()` function and obtained this result: \n",
    "\n",
    "[image1]: ./output_images/Undistorted_Image.jpg \"Undistorted\"\n",
    "[original]: ./output_images/Original_Image.jpg \"Original\"\n",
    "### Original Image\n",
    "![alt text][original]\n",
    "### Undistorted Image\n",
    "![alt text][image1]\n",
    "\n",
    "\n",
    "### Pipeline (single images)\n",
    "\n",
    "#### 1. Provide an example of a distortion-corrected image.\n",
    "To demonstrate this step, I will describe how I apply the distortion correction to one of the test images like this one:\n",
    "[image2]: ./output_images/Undistorted_Test_Image.jpg \"Road Transformed\"\n",
    "[original2]: ./output_images/Original_Test_Image.jpg \"Original Image\"\n",
    "### Original Image\n",
    "![alt text][original2]\n",
    "### Undistorted Image\n",
    "![alt text][image2]\n",
    "\n",
    "#### 2. Describe how (and identify where in your code) you used color transforms, gradients or other methods to create a thresholded binary image.  Provide an example of a binary image result.\n",
    "The functions I used for thresholding are found in `binarythresholding.py`.  \n",
    "The pipeline is shown in the first cell of the `Applying thereshold to produce a binary image` section of the Jupyter notebook `advanced_lane_finding.ipynb`\n",
    "\n",
    "I derived reasonably good threshold values by using a tool I wrote in the last code cell of `Notes/Combination.ipynb`\n",
    "\n",
    "Here's a picture of that:\n",
    "[tool]: ./output_images/matplotlibSlider.png \"Finding Parameters\"\n",
    "![alt text][tool]\n",
    "\n",
    "\n",
    "Here are the steps for this part of the pipeline:\n",
    "1. Extract the saturation channel.\n",
    "2. Apply a sobel threshold in both the x and y direction, as well as a magnitute gradient.\n",
    "3. Take the intersect of points from each of the three thresholds to make the final binary.\n",
    "\n",
    "Here's an example of my output for this step.\n",
    "\n",
    "[binary]: ./output_images/binary_result.jpg \"Binary Result\"\n",
    "[originalbin]: ./output_images/before_binary.jpg \"Original Image\"\n",
    "### Original Image\n",
    "![alt text][originalbin]\n",
    "### Binary Image\n",
    "![alt text][binary]"
   ]
  },
  {
   "cell_type": "markdown",
   "metadata": {
    "deletable": true,
    "editable": true
   },
   "source": [
    "#### 3. Describe how (and identify where in your code) you performed a perspective transform and provide an example of a transformed image.\n",
    "\n",
    "The code for my perspective transform includes a function called `warper()`, which appears in the code cell directly under the heading `Apply a perspective transform to rectify binary image (\"birds-eye view\").` in the Jupyter notebook).  The `warper()` function takes as inputs an image (`img`), as well as source (`src`) and destination (`dst`) points.  I chose the hardcode the source and destination points in the following manner:\n",
    "\n",
    "```\n",
    "src = np.float32(\n",
    "    [[(img_size[0] / 2) - 55, img_size[1] / 2 + 100],\n",
    "    [((img_size[0] / 6) - 10), img_size[1]],\n",
    "    [(img_size[0] * 5 / 6) + 60, img_size[1]],\n",
    "    [(img_size[0] / 2 + 55), img_size[1] / 2 + 100]])\n",
    "dst = np.float32(\n",
    "    [[(img_size[0] / 4), 0],\n",
    "    [(img_size[0] / 4), img_size[1]],\n",
    "    [(img_size[0] * 3 / 4), img_size[1]],\n",
    "    [(img_size[0] * 3 / 4), 0]])\n",
    "\n",
    "```\n",
    "This resulted in the following source and destination points:\n",
    "\n",
    "| Source        | Destination   | \n",
    "|:-------------:|:-------------:| \n",
    "| 585, 460      | 320, 0        | \n",
    "| 203.3, 720    | 320, 720      |\n",
    "| 126.6, 720    | 960, 720      |\n",
    "| 695, 460      | 960, 0        |\n",
    "\n",
    "I verified that my perspective transform was working as expected by drawing the `src` and `dst` points onto a test image and its warped counterpart to verify that the lines appear parallel in the warped image.\n",
    "### Original Image\n",
    "[warp_orig]: ./output_images/perspective_original.jpg \"Original Image\"\n",
    "\n",
    "\n",
    "![alt text][warp_orig]\n",
    "### Warped Image\n",
    "[image4]: ./output_images/perspective_result.jpg \"Warp Example\"\n",
    "\n",
    "\n",
    "![alt text][image4]"
   ]
  },
  {
   "cell_type": "markdown",
   "metadata": {
    "deletable": true,
    "editable": true
   },
   "source": [
    "#### 4. Describe how (and identify where in your code) you identified lane-line pixels and fit their positions with a polynomial?\n",
    "\n",
    "I used the sliding window method implementation provided by Udacity (code in the Jupyter notebook under the ` Detect lane pixels and fit to find the lane boundary.` heading.)\n",
    "\n",
    "The sliding window method follows these steps:\n",
    "1. Generate a histogram against the bottom half of the binary image\n",
    "2. Use the peaks to determine the location of the lane lines at the bottom of the image\n",
    "3. Find the rectangle with the most activated pixels in each rectangular column of the image.\n",
    "4. Add that rectangle to an array.\n",
    "5. Fit a second order polynomial to the pixel positions derived from the array of rectangles.\n",
    "6. Repeat steps 3-5 for each new frame using the base search location from the first frame.\n",
    "\n",
    "Here is the result of the method applied to the binary image:\n",
    "The green boxes represent the rectangles bounding the lane line at each column.\n",
    "The yellow line represents the poloynomial function that was fit to each lane line.\n",
    "[image5]: ./output_images/polyfit_result.png \"Fit Visual\"\n",
    "![alt text][image5]"
   ]
  },
  {
   "cell_type": "markdown",
   "metadata": {
    "deletable": true,
    "editable": true
   },
   "source": [
    "#### 5. Describe how (and identify where in your code) you calculated the radius of curvature of the lane and the position of the vehicle with respect to center.\n",
    "\n",
    "I did this in the Jupyter notebook under the heading: ***\"Determine the curvature of the lane and vehicle position with respect to center.\"***\n",
    "\n",
    "The steps I took to find the radius of curvature the same as Udacity's approach in the lesson.\n",
    "\n",
    "1. Convert the distance measurements from pixels to meters.\n",
    "2. Fit a polynomial to the lane pixels using meters instead of just pixels.\n",
    "3. I applied the radii using the formula for the [radius of the curvature](http://www.intmath.com/applications-differentiation/8-radius-curvature.php).\n",
    "4. Often the radius of the curvature was way off for the dashed lane lines.  To combat this, I gave preference to the radius from the line that was closest to the trend when reporting the radius.\n",
    "\n",
    "\n",
    "To find the position of the vehicle from the center lane, used the same method as described in the Q&A.\n",
    "\n",
    "1. For each y value, find the midpoint between the left and right lane by taking the average.\n",
    "2. Compare this midpoint to the center of the image to get the difference.\n",
    "3. Convert this pixel difference to meters.\n",
    "4. Determine which side of the centerline the vehicle is on by checking the sign of the difference.\n",
    "\n",
    "See the image in step 6 for an example."
   ]
  },
  {
   "cell_type": "markdown",
   "metadata": {
    "deletable": true,
    "editable": true
   },
   "source": [
    "#### 6. Provide an example image of your result plotted back down onto the road such that the lane area is identified clearly.\n",
    "\n",
    "This step is carried out under the heading ***Warp the detected lane boundaries back onto the original image.*** \n",
    "\n",
    "Here is an example of my result on a test image:\n",
    "[plotted]: ./output_images/vehicle_heading.jpg \"Output\"\n",
    "\n",
    "![alt text][plotted]\n",
    "\n",
    "---"
   ]
  },
  {
   "cell_type": "markdown",
   "metadata": {
    "deletable": true,
    "editable": true
   },
   "source": [
    "### Pipeline (video)\n",
    "\n",
    "#### 1. Provide a link to your final video output.  Your pipeline should perform reasonably well on the entire project video (wobbly lines are ok but no catastrophic failures that would cause the car to drive off the road!).\n",
    "[video1]: ./output_video.mp4 \"Video\"\n",
    "Here's a [link to my video result](./output_video.mp4)\n",
    "\n",
    "---"
   ]
  },
  {
   "cell_type": "markdown",
   "metadata": {
    "deletable": true,
    "editable": true
   },
   "source": [
    "### Discussion\n",
    "\n",
    "#### 1. Briefly discuss any problems / issues you faced in your implementation of this project.  Where will your pipeline likely fail?  What could you do to make it more robust?\n",
    "\n",
    "The application got slightly confused in two cases:\n",
    "1. Being passed by a car with bright wheels.\n",
    "2. Passing under a shadow.\n",
    "\n",
    "To solve these problems, I could try the following things:\n",
    "* I could add averaging to prevent it from jumping to detecting wheels.\n",
    "* I could limit the search for the lane lines to a small window around the last found lane lines.\n",
    "* I could modify the field of view so that the model can't see very far into adjacent lanes.\n",
    "\n",
    "\n",
    "Some other potential issues:\n",
    "* Heavy traffic\n",
    "* The vehicle changing lanes\n",
    "* Weather\n"
   ]
  }
 ],
 "metadata": {
  "kernelspec": {
   "display_name": "Python 3",
   "language": "python",
   "name": "python3"
  },
  "language_info": {
   "codemirror_mode": {
    "name": "ipython",
    "version": 3
   },
   "file_extension": ".py",
   "mimetype": "text/x-python",
   "name": "python",
   "nbconvert_exporter": "python",
   "pygments_lexer": "ipython3",
   "version": "3.5.2"
  },
  "widgets": {
   "state": {},
   "version": "1.1.2"
  }
 },
 "nbformat": 4,
 "nbformat_minor": 2
}
